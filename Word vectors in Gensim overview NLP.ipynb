{
 "cells": [
  {
   "cell_type": "code",
   "execution_count": 1,
   "id": "9bbd30f5",
   "metadata": {},
   "outputs": [
    {
     "name": "stdout",
     "output_type": "stream",
     "text": [
      "Requirement already satisfied: gensim in c:\\users\\asus\\anaconda3\\lib\\site-packages (4.3.0)\n",
      "Collecting gensim\n",
      "  Obtaining dependency information for gensim from https://files.pythonhosted.org/packages/f5/57/f2e6568dbf464a4b270954e5fa3dee4a4054d163a41c0e7bf0a34eb40f0f/gensim-4.3.3-cp311-cp311-win_amd64.whl.metadata\n",
      "  Downloading gensim-4.3.3-cp311-cp311-win_amd64.whl.metadata (8.2 kB)\n",
      "Requirement already satisfied: numpy<2.0,>=1.18.5 in c:\\users\\asus\\anaconda3\\lib\\site-packages (from gensim) (1.24.3)\n",
      "Requirement already satisfied: scipy<1.14.0,>=1.7.0 in c:\\users\\asus\\anaconda3\\lib\\site-packages (from gensim) (1.11.1)\n",
      "Requirement already satisfied: smart-open>=1.8.1 in c:\\users\\asus\\anaconda3\\lib\\site-packages (from gensim) (5.2.1)\n",
      "Downloading gensim-4.3.3-cp311-cp311-win_amd64.whl (24.0 MB)\n",
      "   ---------------------------------------- 0.0/24.0 MB ? eta -:--:--\n",
      "   ---------------------------------------- 0.0/24.0 MB ? eta -:--:--\n",
      "   ---------------------------------------- 0.2/24.0 MB 2.0 MB/s eta 0:00:13\n",
      "   - -------------------------------------- 0.7/24.0 MB 5.2 MB/s eta 0:00:05\n",
      "   - -------------------------------------- 0.9/24.0 MB 6.4 MB/s eta 0:00:04\n",
      "   - -------------------------------------- 1.0/24.0 MB 4.8 MB/s eta 0:00:05\n",
      "   -- ------------------------------------- 1.2/24.0 MB 4.6 MB/s eta 0:00:05\n",
      "   -- ------------------------------------- 1.7/24.0 MB 5.4 MB/s eta 0:00:05\n",
      "   --- ------------------------------------ 2.1/24.0 MB 5.9 MB/s eta 0:00:04\n",
      "   ---- ----------------------------------- 2.6/24.0 MB 6.3 MB/s eta 0:00:04\n",
      "   ----- ---------------------------------- 3.0/24.0 MB 6.7 MB/s eta 0:00:04\n",
      "   ----- ---------------------------------- 3.6/24.0 MB 7.1 MB/s eta 0:00:03\n",
      "   ------ --------------------------------- 3.9/24.0 MB 7.2 MB/s eta 0:00:03\n",
      "   ------- -------------------------------- 4.3/24.0 MB 7.2 MB/s eta 0:00:03\n",
      "   ------- -------------------------------- 4.8/24.0 MB 7.5 MB/s eta 0:00:03\n",
      "   -------- ------------------------------- 5.2/24.0 MB 7.6 MB/s eta 0:00:03\n",
      "   --------- ------------------------------ 5.7/24.0 MB 7.9 MB/s eta 0:00:03\n",
      "   ---------- ----------------------------- 6.2/24.0 MB 8.1 MB/s eta 0:00:03\n",
      "   ----------- ---------------------------- 6.8/24.0 MB 8.4 MB/s eta 0:00:03\n",
      "   ------------ --------------------------- 7.2/24.0 MB 8.4 MB/s eta 0:00:03\n",
      "   ------------ --------------------------- 7.7/24.0 MB 8.6 MB/s eta 0:00:02\n",
      "   ------------- -------------------------- 8.2/24.0 MB 8.6 MB/s eta 0:00:02\n",
      "   -------------- ------------------------- 8.7/24.0 MB 8.8 MB/s eta 0:00:02\n",
      "   --------------- ------------------------ 9.2/24.0 MB 8.8 MB/s eta 0:00:02\n",
      "   --------------- ------------------------ 9.6/24.0 MB 8.7 MB/s eta 0:00:02\n",
      "   ---------------- ----------------------- 10.0/24.0 MB 8.8 MB/s eta 0:00:02\n",
      "   ----------------- ---------------------- 10.5/24.0 MB 9.2 MB/s eta 0:00:02\n",
      "   ------------------ --------------------- 11.0/24.0 MB 9.2 MB/s eta 0:00:02\n",
      "   ------------------ --------------------- 11.4/24.0 MB 10.1 MB/s eta 0:00:02\n",
      "   ------------------- -------------------- 11.8/24.0 MB 10.1 MB/s eta 0:00:02\n",
      "   -------------------- ------------------- 12.4/24.0 MB 10.2 MB/s eta 0:00:02\n",
      "   --------------------- ------------------ 12.9/24.0 MB 10.1 MB/s eta 0:00:02\n",
      "   ---------------------- ----------------- 13.4/24.0 MB 10.2 MB/s eta 0:00:02\n",
      "   ---------------------- ----------------- 13.8/24.0 MB 10.1 MB/s eta 0:00:02\n",
      "   ----------------------- ---------------- 14.3/24.0 MB 10.4 MB/s eta 0:00:01\n",
      "   ------------------------ --------------- 14.6/24.0 MB 10.2 MB/s eta 0:00:01\n",
      "   ------------------------- -------------- 15.1/24.0 MB 10.2 MB/s eta 0:00:01\n",
      "   ------------------------- -------------- 15.6/24.0 MB 10.1 MB/s eta 0:00:01\n",
      "   -------------------------- ------------- 16.0/24.0 MB 10.1 MB/s eta 0:00:01\n",
      "   --------------------------- ------------ 16.5/24.0 MB 10.1 MB/s eta 0:00:01\n",
      "   ---------------------------- ----------- 16.9/24.0 MB 9.8 MB/s eta 0:00:01\n",
      "   ---------------------------- ----------- 17.3/24.0 MB 9.6 MB/s eta 0:00:01\n",
      "   ----------------------------- ---------- 17.8/24.0 MB 9.6 MB/s eta 0:00:01\n",
      "   ------------------------------ --------- 18.5/24.0 MB 9.6 MB/s eta 0:00:01\n",
      "   ------------------------------- -------- 19.0/24.0 MB 9.8 MB/s eta 0:00:01\n",
      "   -------------------------------- ------- 19.3/24.0 MB 9.6 MB/s eta 0:00:01\n",
      "   -------------------------------- ------- 19.7/24.0 MB 9.5 MB/s eta 0:00:01\n",
      "   --------------------------------- ------ 20.2/24.0 MB 9.6 MB/s eta 0:00:01\n",
      "   ---------------------------------- ----- 20.6/24.0 MB 9.5 MB/s eta 0:00:01\n",
      "   ---------------------------------- ----- 20.9/24.0 MB 9.5 MB/s eta 0:00:01\n",
      "   ----------------------------------- ---- 21.2/24.0 MB 9.2 MB/s eta 0:00:01\n",
      "   ----------------------------------- ---- 21.5/24.0 MB 9.2 MB/s eta 0:00:01\n",
      "   ------------------------------------ --- 22.0/24.0 MB 9.2 MB/s eta 0:00:01\n",
      "   ------------------------------------- -- 22.3/24.0 MB 9.2 MB/s eta 0:00:01\n",
      "   ------------------------------------- -- 22.8/24.0 MB 9.0 MB/s eta 0:00:01\n",
      "   -------------------------------------- - 23.2/24.0 MB 9.1 MB/s eta 0:00:01\n",
      "   ---------------------------------------  23.7/24.0 MB 9.1 MB/s eta 0:00:01\n",
      "   ---------------------------------------  24.0/24.0 MB 9.1 MB/s eta 0:00:01\n",
      "   ---------------------------------------  24.0/24.0 MB 9.1 MB/s eta 0:00:01\n",
      "   ---------------------------------------- 24.0/24.0 MB 8.3 MB/s eta 0:00:00\n",
      "Installing collected packages: gensim\n",
      "  Attempting uninstall: gensim\n",
      "    Found existing installation: gensim 4.3.0\n",
      "    Uninstalling gensim-4.3.0:\n",
      "      Successfully uninstalled gensim-4.3.0\n",
      "Successfully installed gensim-4.3.3\n"
     ]
    }
   ],
   "source": [
    "!pip install --upgrade gensim"
   ]
  },
  {
   "cell_type": "code",
   "execution_count": 4,
   "id": "0de0ff78",
   "metadata": {},
   "outputs": [],
   "source": [
    "import gensim.downloader as api"
   ]
  },
  {
   "cell_type": "code",
   "execution_count": 6,
   "id": "857e59b7",
   "metadata": {},
   "outputs": [],
   "source": [
    "wv = api.load(\"word2vec-google-news-300\")"
   ]
  },
  {
   "cell_type": "code",
   "execution_count": 11,
   "id": "7c8a32ce",
   "metadata": {},
   "outputs": [
    {
     "data": {
      "text/plain": [
       "0.72915095"
      ]
     },
     "execution_count": 11,
     "metadata": {},
     "output_type": "execute_result"
    }
   ],
   "source": [
    "wv.similarity(w1=\"great\", w2=\"good\")"
   ]
  },
  {
   "cell_type": "code",
   "execution_count": 12,
   "id": "ec638718",
   "metadata": {},
   "outputs": [
    {
     "data": {
      "text/plain": [
       "0.4098271"
      ]
     },
     "execution_count": 12,
     "metadata": {},
     "output_type": "execute_result"
    }
   ],
   "source": [
    "wv.similarity(w1=\"great\", w2=\"well\")"
   ]
  },
  {
   "cell_type": "code",
   "execution_count": 13,
   "id": "580fcc0f",
   "metadata": {},
   "outputs": [
    {
     "data": {
      "text/plain": [
       "0.34199458"
      ]
     },
     "execution_count": 13,
     "metadata": {},
     "output_type": "execute_result"
    }
   ],
   "source": [
    "wv.similarity(w1=\"profit\", w2=\"loss\")"
   ]
  },
  {
   "cell_type": "code",
   "execution_count": 14,
   "id": "452bc96c",
   "metadata": {},
   "outputs": [
    {
     "data": {
      "text/plain": [
       "0.28772825"
      ]
     },
     "execution_count": 14,
     "metadata": {},
     "output_type": "execute_result"
    }
   ],
   "source": [
    "wv.similarity(w1=\"profit\", w2=\"gain\")"
   ]
  },
  {
   "cell_type": "code",
   "execution_count": 18,
   "id": "737d6818",
   "metadata": {},
   "outputs": [
    {
     "data": {
      "text/plain": [
       "[('cats', 0.8099379539489746),\n",
       " ('dog', 0.760945737361908),\n",
       " ('kitten', 0.7464984655380249),\n",
       " ('feline', 0.7326233983039856),\n",
       " ('beagle', 0.7150582671165466),\n",
       " ('puppy', 0.7075453996658325),\n",
       " ('pup', 0.6934291124343872),\n",
       " ('pet', 0.6891531348228455),\n",
       " ('felines', 0.6755931377410889),\n",
       " ('chihuahua', 0.6709762215614319)]"
      ]
     },
     "execution_count": 18,
     "metadata": {},
     "output_type": "execute_result"
    }
   ],
   "source": [
    "#if words appear in same context they will have higher similarity \n",
    "wv.most_similar(\"cat\")"
   ]
  },
  {
   "cell_type": "code",
   "execution_count": 19,
   "id": "7020ae00",
   "metadata": {},
   "outputs": [
    {
     "data": {
      "text/plain": [
       "[('germany', 0.5094344019889832),\n",
       " ('european', 0.4865044951438904),\n",
       " ('german', 0.4714890420436859),\n",
       " ('austria', 0.46964025497436523),\n",
       " ('swedish', 0.4645182490348816),\n",
       " ('Wissenschaft', 0.45328810811042786),\n",
       " ('denmark', 0.4477355182170868),\n",
       " ('München', 0.4438532590866089),\n",
       " ('europe', 0.4420619308948517),\n",
       " ('belgium', 0.43769749999046326)]"
      ]
     },
     "execution_count": 19,
     "metadata": {},
     "output_type": "execute_result"
    }
   ],
   "source": [
    "wv.most_similar(positive=[\"france\", \"berlin\"], negative=[\"paris\"])"
   ]
  },
  {
   "cell_type": "code",
   "execution_count": 21,
   "id": "2279b749",
   "metadata": {},
   "outputs": [
    {
     "data": {
      "text/plain": [
       "[('queen', 0.7118193507194519),\n",
       " ('monarch', 0.6189674735069275),\n",
       " ('princess', 0.5902431011199951),\n",
       " ('crown_prince', 0.5499460697174072),\n",
       " ('prince', 0.5377321243286133),\n",
       " ('kings', 0.5236844420433044),\n",
       " ('Queen_Consort', 0.5235945582389832),\n",
       " ('queens', 0.518113374710083),\n",
       " ('sultan', 0.5098593831062317),\n",
       " ('monarchy', 0.5087411999702454)]"
      ]
     },
     "execution_count": 21,
     "metadata": {},
     "output_type": "execute_result"
    }
   ],
   "source": [
    "wv.most_similar(positive=[\"king\", \"woman\"], negative=[\"man\"])"
   ]
  },
  {
   "cell_type": "code",
   "execution_count": 23,
   "id": "b55d0ab3",
   "metadata": {},
   "outputs": [
    {
     "data": {
      "text/plain": [
       "'cat'"
      ]
     },
     "execution_count": 23,
     "metadata": {},
     "output_type": "execute_result"
    }
   ],
   "source": [
    "wv.doesnt_match([\"facebook\", \"cat\", \"microsoft\", \"google\"])"
   ]
  },
  {
   "cell_type": "code",
   "execution_count": 24,
   "id": "f2ba6e5c",
   "metadata": {},
   "outputs": [
    {
     "data": {
      "text/plain": [
       "'google'"
      ]
     },
     "execution_count": 24,
     "metadata": {},
     "output_type": "execute_result"
    }
   ],
   "source": [
    "wv.doesnt_match([\"dog\", \"cat\", \"lion\", \"google\"])"
   ]
  },
  {
   "cell_type": "code",
   "execution_count": 25,
   "id": "0b11d3d5",
   "metadata": {},
   "outputs": [
    {
     "name": "stdout",
     "output_type": "stream",
     "text": [
      "[==================================================] 100.0% 104.8/104.8MB downloaded\n"
     ]
    }
   ],
   "source": [
    "wv1 = api.load(\"glove-twitter-25\")"
   ]
  },
  {
   "cell_type": "code",
   "execution_count": 27,
   "id": "d20c5f94",
   "metadata": {},
   "outputs": [
    {
     "data": {
      "text/plain": [
       "[('qualcomm', 0.9118990898132324),\n",
       " ('motors', 0.907597541809082),\n",
       " ('sachs', 0.8855621814727783),\n",
       " ('alibaba', 0.8841804265975952),\n",
       " ('weber', 0.8666931390762329),\n",
       " ('deere', 0.8601743578910828),\n",
       " ('kernel', 0.8578173518180847),\n",
       " ('foxconn', 0.8552562594413757),\n",
       " ('citigroup', 0.8552471995353699),\n",
       " ('exxon', 0.855033814907074)]"
      ]
     },
     "execution_count": 27,
     "metadata": {},
     "output_type": "execute_result"
    }
   ],
   "source": [
    "wv1.most_similar(\"tesla\")"
   ]
  },
  {
   "cell_type": "code",
   "execution_count": 29,
   "id": "43443a22",
   "metadata": {},
   "outputs": [
    {
     "data": {
      "text/plain": [
       "'human'"
      ]
     },
     "execution_count": 29,
     "metadata": {},
     "output_type": "execute_result"
    }
   ],
   "source": [
    "wv.doesnt_match(\"banana grapes oranges human\".split())"
   ]
  },
  {
   "cell_type": "code",
   "execution_count": null,
   "id": "6c761bb3",
   "metadata": {},
   "outputs": [],
   "source": []
  }
 ],
 "metadata": {
  "kernelspec": {
   "display_name": "Python 3 (ipykernel)",
   "language": "python",
   "name": "python3"
  },
  "language_info": {
   "codemirror_mode": {
    "name": "ipython",
    "version": 3
   },
   "file_extension": ".py",
   "mimetype": "text/x-python",
   "name": "python",
   "nbconvert_exporter": "python",
   "pygments_lexer": "ipython3",
   "version": "3.11.5"
  }
 },
 "nbformat": 4,
 "nbformat_minor": 5
}
